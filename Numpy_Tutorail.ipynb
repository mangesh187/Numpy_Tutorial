{
  "nbformat": 4,
  "nbformat_minor": 0,
  "metadata": {
    "colab": {
      "name": "Numpy_Tutorail.ipynb",
      "provenance": [],
      "collapsed_sections": []
    },
    "kernelspec": {
      "name": "python3",
      "display_name": "Python 3"
    }
  },
  "cells": [
    {
      "cell_type": "markdown",
      "metadata": {
        "id": "xEd_RvmhQ8b2",
        "colab_type": "text"
      },
      "source": [
        ""
      ]
    },
    {
      "cell_type": "markdown",
      "metadata": {
        "id": "jXsBW-h8Q_qq",
        "colab_type": "text"
      },
      "source": [
        "1) Creating a Vector\n",
        "Here we use Numpy to create a 1-D Array which we then call a vector.\n"
      ]
    },
    {
      "cell_type": "code",
      "metadata": {
        "id": "dQmrw63-RC54",
        "colab_type": "code",
        "colab": {}
      },
      "source": [
        "#Load Library\n",
        "import numpy as np\n",
        "\n",
        "#Create a vector as a Row\n",
        "vector_row = np.array([1,2,3])\n",
        "\n",
        "#Create vector as a Column\n",
        "vector_column = np.array([[1],[2],[3]])"
      ],
      "execution_count": 1,
      "outputs": []
    },
    {
      "cell_type": "markdown",
      "metadata": {
        "id": "6TvLdBAARLBS",
        "colab_type": "text"
      },
      "source": [
        "2) Creating a Matrix\n",
        "We Create a 2-D Array in Numpy and call it a Matrix. It contains 2 rows and 3 columns."
      ]
    },
    {
      "cell_type": "code",
      "metadata": {
        "id": "82rOHlKuRPn7",
        "colab_type": "code",
        "colab": {
          "base_uri": "https://localhost:8080/",
          "height": 51
        },
        "outputId": "bf81e507-3ba7-45f7-f04a-44cb2813a8e1"
      },
      "source": [
        "#Load Library\n",
        "import numpy as np\n",
        "\n",
        "#Create a Matrix\n",
        "matrix = np.array([[1,2,3],[4,5,6]])\n",
        "print(matrix)"
      ],
      "execution_count": 2,
      "outputs": [
        {
          "output_type": "stream",
          "text": [
            "[[1 2 3]\n",
            " [4 5 6]]\n"
          ],
          "name": "stdout"
        }
      ]
    },
    {
      "cell_type": "markdown",
      "metadata": {
        "id": "5jc49nr8RV0_",
        "colab_type": "text"
      },
      "source": [
        "3) Creating a Sparse Matrix\n",
        "Given data with very few non zero values you want to efficiently represent it.\n",
        "A frequent situation in Machine Learning is having a huge amount of Data; however most of the elements in the data are Zeros. For example, lets imagine a Matrix where the columns are all the products on Amazon and the rows signify whether a given user has bought that item before or not. Now as you might have guessed there would be many products which haven't been bought even a single time till now and thus a vast majority of elements would be Zero.\n",
        "Sparse Matrices store only non zero elements and assume all other values will be zero, leading to significant computational savings.\n"
      ]
    },
    {
      "cell_type": "code",
      "metadata": {
        "id": "qbAUidI9RYOZ",
        "colab_type": "code",
        "colab": {
          "base_uri": "https://localhost:8080/",
          "height": 102
        },
        "outputId": "02683cbe-e4b6-4721-8494-4a692b20b78e"
      },
      "source": [
        "#Load Library\n",
        "import numpy as np\n",
        "from scipy. sparse import csr_matrix\n",
        "#Create a Matrix\n",
        "matrix = np.array([[0,0],[0,1],[3,0]])\n",
        "print(matrix)\n",
        "#Create Sparse Row(CSR) matrix\n",
        "matrix_sparse = csr_matrix(matrix)\n",
        "print(matrix_sparse)"
      ],
      "execution_count": 9,
      "outputs": [
        {
          "output_type": "stream",
          "text": [
            "[[0 0]\n",
            " [0 1]\n",
            " [3 0]]\n",
            "  (1, 1)\t1\n",
            "  (2, 0)\t3\n"
          ],
          "name": "stdout"
        }
      ]
    },
    {
      "cell_type": "markdown",
      "metadata": {
        "id": "0ZA52MV8uIpA",
        "colab_type": "text"
      },
      "source": [
        "## 4) Selecting Elements\n",
        "When you need to select one or more element in a vector or matrix"
      ]
    },
    {
      "cell_type": "code",
      "metadata": {
        "id": "giWiNPgJu1IY",
        "colab_type": "code",
        "colab": {
          "base_uri": "https://localhost:8080/",
          "height": 105
        },
        "outputId": "df1ee5d4-fd5d-4e41-cb1a-261970316999"
      },
      "source": [
        "pip install vector\n"
      ],
      "execution_count": 16,
      "outputs": [
        {
          "output_type": "stream",
          "text": [
            "Collecting vector\n",
            "  Downloading https://files.pythonhosted.org/packages/98/1e/085f23c20232b2b9821bf221e668a3262c963adca19e7339698105f30f00/vector-0.0.0-py3-none-any.whl\n",
            "Installing collected packages: vector\n",
            "Successfully installed vector-0.0.0\n"
          ],
          "name": "stdout"
        }
      ]
    },
    {
      "cell_type": "code",
      "metadata": {
        "id": "IzeUUV7auQiA",
        "colab_type": "code",
        "colab": {
          "base_uri": "https://localhost:8080/",
          "height": 255
        },
        "outputId": "93533681-33a3-4ce4-db5b-345a4257e241"
      },
      "source": [
        "#Load Library\n",
        "import numpy as np\n",
        "import vector\n",
        "#Create a vector as a Row\n",
        "vector_row = np.array([ 1,2,3,4,5,6 ])\n",
        "#Create a Matrix\n",
        "matrix = np.array([[1,2,3],[4,5,6],[7,8,9]])\n",
        "print(matrix)\n",
        "\n",
        "#Select 3rd element of Vector\n",
        "print(vector_row[2])\n",
        "\n",
        "#Select 2nd row 2nd column\n",
        "print(matrix[1,1])\n",
        "#Select all elements of a vector\n",
        "print(vector_row[:])\n",
        "#Select everything up to and including the 3rd element\n",
        "print(vector_row[:3])\n",
        "#Select the everything after the 3rd element\n",
        "print(vector_row[3:])\n",
        "#Select the last element\n",
        "print(vector_row[-1])\n",
        "#Select the first 2 rows and all the columns of the matrix\n",
        "print(matrix[:2,:])\n",
        "#Select all rows and the 2nd column of the matrix\n",
        "print(matrix[:,1:2])"
      ],
      "execution_count": 19,
      "outputs": [
        {
          "output_type": "stream",
          "text": [
            "[[1 2 3]\n",
            " [4 5 6]\n",
            " [7 8 9]]\n",
            "3\n",
            "5\n",
            "[1 2 3 4 5 6]\n",
            "[1 2 3]\n",
            "[4 5 6]\n",
            "6\n",
            "[[1 2 3]\n",
            " [4 5 6]]\n",
            "[[2]\n",
            " [5]\n",
            " [8]]\n"
          ],
          "name": "stdout"
        }
      ]
    },
    {
      "cell_type": "markdown",
      "metadata": {
        "id": "JgfusKgMwU5W",
        "colab_type": "text"
      },
      "source": [
        "## 5) Describing a Matrix\n",
        "When you want to know about the shape size and dimensions of a Matrix."
      ]
    },
    {
      "cell_type": "code",
      "metadata": {
        "id": "fZQJJgEtwcI0",
        "colab_type": "code",
        "colab": {
          "base_uri": "https://localhost:8080/",
          "height": 68
        },
        "outputId": "3e2215be-65d4-4e85-bcfe-4cacaf5d2771"
      },
      "source": [
        "import numpy as np\n",
        "#Create a Matrix\n",
        "matrix = np.array([[1,2,3],[4,5,6],[7,8,9]])\n",
        "#View the Number of Rows and Columns\n",
        "print(matrix.shape)\n",
        "#View the number of elements (rows*columns)\n",
        "print(matrix.size)\n",
        "#View the number of Dimensions(2 in this case)\n",
        "print(matrix.ndim)"
      ],
      "execution_count": 20,
      "outputs": [
        {
          "output_type": "stream",
          "text": [
            "(3, 3)\n",
            "9\n",
            "2\n"
          ],
          "name": "stdout"
        }
      ]
    },
    {
      "cell_type": "markdown",
      "metadata": {
        "id": "rE4j96UzwgEx",
        "colab_type": "text"
      },
      "source": [
        "## 6) Applying operations to elements\n",
        "You want to apply some function to multiple elements in an array.\n",
        "Numpy’s vectorize class converts a function into a function that can apply to multiple elements in an array or slice of an array.\n"
      ]
    },
    {
      "cell_type": "code",
      "metadata": {
        "id": "YnB5a2eiwjki",
        "colab_type": "code",
        "colab": {
          "base_uri": "https://localhost:8080/",
          "height": 119
        },
        "outputId": "167038f0-5f43-4944-a33d-8c92f7ef6f52"
      },
      "source": [
        "#Load Library\n",
        "import numpy as np\n",
        "\n",
        "#Create a Matrix\n",
        "matrix = np.array([[1,2,3],[4,5,6],[7,8,9]])\n",
        "print(matrix)\n",
        "\n",
        "#Create a function that adds 100 to something\n",
        "add_100 =lambda i: i+100\n",
        "\n",
        "#Convert it into a vectorized function\n",
        "vectorized_add_100= np.vectorize(add_100)\n",
        "\n",
        "#Apply function to all elements in matrix\n",
        "print(vectorized_add_100(matrix))"
      ],
      "execution_count": 21,
      "outputs": [
        {
          "output_type": "stream",
          "text": [
            "[[1 2 3]\n",
            " [4 5 6]\n",
            " [7 8 9]]\n",
            "[[101 102 103]\n",
            " [104 105 106]\n",
            " [107 108 109]]\n"
          ],
          "name": "stdout"
        }
      ]
    },
    {
      "cell_type": "markdown",
      "metadata": {
        "id": "0uru5RHpwmNU",
        "colab_type": "text"
      },
      "source": [
        "## 7) Finding the max and min values\n",
        "We use Numpy’s max and min functions:"
      ]
    },
    {
      "cell_type": "code",
      "metadata": {
        "id": "uZs2Sofzwq3-",
        "colab_type": "code",
        "colab": {
          "base_uri": "https://localhost:8080/",
          "height": 136
        },
        "outputId": "203ec563-6840-4630-969e-42c69ff47347"
      },
      "source": [
        "#Load Library\n",
        "import numpy as np\n",
        "\n",
        "#Create a Matrix\n",
        "matrix = np.array([[1,2,3],[4,5,6],[7,8,9]])\n",
        "print(matrix)\n",
        "#Return the max element\n",
        "print(np.max(matrix))\n",
        "#Return the min element\n",
        "print(np.min(matrix))\n",
        "#To find the max element in each column\n",
        "print(np.max(matrix,axis=0))\n",
        "#To find the max element in each row\n",
        "print(np.max(matrix,axis=1))"
      ],
      "execution_count": 22,
      "outputs": [
        {
          "output_type": "stream",
          "text": [
            "[[1 2 3]\n",
            " [4 5 6]\n",
            " [7 8 9]]\n",
            "9\n",
            "1\n",
            "[7 8 9]\n",
            "[3 6 9]\n"
          ],
          "name": "stdout"
        }
      ]
    },
    {
      "cell_type": "markdown",
      "metadata": {
        "id": "BFJRDRtBwt21",
        "colab_type": "text"
      },
      "source": [
        "## 8) Calculating Average, Variance and Standard deviation\n",
        "When you want to calculate some descriptive statistics about an array."
      ]
    },
    {
      "cell_type": "code",
      "metadata": {
        "id": "18vcUznKwzVg",
        "colab_type": "code",
        "colab": {
          "base_uri": "https://localhost:8080/",
          "height": 119
        },
        "outputId": "a4997a90-a575-47a6-98da-9eb450b510c8"
      },
      "source": [
        "#Load Library\n",
        "import numpy as np\n",
        "\n",
        "#Create a Matrix\n",
        "matrix = np.array([[1,2,3],[4,5,6],[7,8,9]])\n",
        "print(matrix)\n",
        "#Mean\n",
        "print(np.mean(matrix))\n",
        "#Standard Dev.\n",
        "print(np.std(matrix))\n",
        "#Variance\n",
        "print(np.var(matrix))"
      ],
      "execution_count": 23,
      "outputs": [
        {
          "output_type": "stream",
          "text": [
            "[[1 2 3]\n",
            " [4 5 6]\n",
            " [7 8 9]]\n",
            "5.0\n",
            "2.581988897471611\n",
            "6.666666666666667\n"
          ],
          "name": "stdout"
        }
      ]
    },
    {
      "cell_type": "markdown",
      "metadata": {
        "id": "n9_O3epaw1xy",
        "colab_type": "text"
      },
      "source": [
        "## 9) Reshaping Arrays\n",
        "When you want to reshape an array(changing the number of rows and columns) without changing the elements.\n"
      ]
    },
    {
      "cell_type": "code",
      "metadata": {
        "id": "udxV1vzKw43C",
        "colab_type": "code",
        "colab": {
          "base_uri": "https://localhost:8080/",
          "height": 272
        },
        "outputId": "c4f752a2-47af-41b8-ec08-aa263a8993ae"
      },
      "source": [
        "#Load Library\n",
        "import numpy as np\n",
        "\n",
        "#Create a Matrix\n",
        "matrix = np.array([[1,2,3],[4,5,6],[7,8,9]])\n",
        "print(matrix)\n",
        "#Reshape\n",
        "print(matrix.reshape(9,1))\n",
        "#Here -1 says as many columns as needed and 1 row\n",
        "print(matrix.reshape(1,-1))\n",
        "#If we provide only 1 value Reshape would return a 1-d array of that length\n",
        "print(matrix.reshape(9))\n",
        "#We can also use the Flatten method to convert a matrix to 1-d array\n",
        "print(matrix.flatten())"
      ],
      "execution_count": 27,
      "outputs": [
        {
          "output_type": "stream",
          "text": [
            "[[1 2 3]\n",
            " [4 5 6]\n",
            " [7 8 9]]\n",
            "[[1]\n",
            " [2]\n",
            " [3]\n",
            " [4]\n",
            " [5]\n",
            " [6]\n",
            " [7]\n",
            " [8]\n",
            " [9]]\n",
            "[[1 2 3 4 5 6 7 8 9]]\n",
            "[1 2 3 4 5 6 7 8 9]\n",
            "[1 2 3 4 5 6 7 8 9]\n"
          ],
          "name": "stdout"
        }
      ]
    },
    {
      "cell_type": "markdown",
      "metadata": {
        "id": "ufIlHXAzw4Z_",
        "colab_type": "text"
      },
      "source": [
        "## 10) Transposing a vector or a Matrix\n",
        "By transposing you interchange the rows and columns of a Matrix\n"
      ]
    },
    {
      "cell_type": "code",
      "metadata": {
        "id": "HDwBmUGrxFG2",
        "colab_type": "code",
        "colab": {
          "base_uri": "https://localhost:8080/",
          "height": 119
        },
        "outputId": "d1e81074-5258-4a0c-8f73-3590105a41bd"
      },
      "source": [
        "#Load Library\n",
        "import numpy as np\n",
        "\n",
        "#Create a Matrix\n",
        "matrix = np.array([[1,2,3],[4,5,6],[7,8,9]])\n",
        "print(matrix)\n",
        "#Transpose the matrix\n",
        "print(matrix.T)"
      ],
      "execution_count": 28,
      "outputs": [
        {
          "output_type": "stream",
          "text": [
            "[[1 2 3]\n",
            " [4 5 6]\n",
            " [7 8 9]]\n",
            "[[1 4 7]\n",
            " [2 5 8]\n",
            " [3 6 9]]\n"
          ],
          "name": "stdout"
        }
      ]
    },
    {
      "cell_type": "markdown",
      "metadata": {
        "id": "C24gHfJtxH32",
        "colab_type": "text"
      },
      "source": [
        "## 11) Finding the Determinant and Rank of a Matrix\n",
        "The rank of a Matrix is the number of dimensions of the vector space spanned by its rows or columns.\n"
      ]
    },
    {
      "cell_type": "code",
      "metadata": {
        "id": "aVAwWLNDxLis",
        "colab_type": "code",
        "colab": {
          "base_uri": "https://localhost:8080/",
          "height": 102
        },
        "outputId": "857024af-7449-4b12-a18c-6661d4f84b4f"
      },
      "source": [
        "#Load Library\n",
        "import numpy as np\n",
        "\n",
        "#Create a Matrix\n",
        "matrix = np.array([[1,2,3],[4,5,6],[7,8,9]])\n",
        "print(matrix)\n",
        "#Calculate the Determinant\n",
        "print(np.linalg.det(matrix))\n",
        "#Calculate the Rank\n",
        "print(np.linalg.matrix_rank(matrix))"
      ],
      "execution_count": 29,
      "outputs": [
        {
          "output_type": "stream",
          "text": [
            "[[1 2 3]\n",
            " [4 5 6]\n",
            " [7 8 9]]\n",
            "0.0\n",
            "2\n"
          ],
          "name": "stdout"
        }
      ]
    },
    {
      "cell_type": "markdown",
      "metadata": {
        "id": "LmXCW3ltxNoM",
        "colab_type": "text"
      },
      "source": [
        "## 12) Getting the Diagonal of a Matrix\n",
        "When you need to extract only the diagonal elements of a matrix\n"
      ]
    },
    {
      "cell_type": "code",
      "metadata": {
        "id": "RH2C55TsxRB8",
        "colab_type": "code",
        "colab": {
          "base_uri": "https://localhost:8080/",
          "height": 119
        },
        "outputId": "5b9189f7-9f30-4692-9508-48858001907a"
      },
      "source": [
        "#Load Library\n",
        "import numpy as np\n",
        "\n",
        "#Create a Matrix\n",
        "matrix = np.array([[1,2,3],[4,5,6],[7,8,9]])\n",
        "print(matrix)\n",
        "#Print the Principal diagonal\n",
        "print(matrix.diagonal())\n",
        "#Print the diagonal one above the Principal diagonal\n",
        "print(matrix.diagonal(offset=1))\n",
        "#Print the diagonal one below Principal diagonal\n",
        "print(matrix.diagonal(offset=-1))"
      ],
      "execution_count": 30,
      "outputs": [
        {
          "output_type": "stream",
          "text": [
            "[[1 2 3]\n",
            " [4 5 6]\n",
            " [7 8 9]]\n",
            "[1 5 9]\n",
            "[2 6]\n",
            "[4 8]\n"
          ],
          "name": "stdout"
        }
      ]
    },
    {
      "cell_type": "markdown",
      "metadata": {
        "id": "AojYWGrCxTd_",
        "colab_type": "text"
      },
      "source": [
        "## 13) Calculating the trace of a Matrix\n",
        "Trace of a Matrix is the sum of elements on the Principal Diagonal of the Matrix.\n"
      ]
    },
    {
      "cell_type": "code",
      "metadata": {
        "id": "NT6in0VdxXss",
        "colab_type": "code",
        "colab": {
          "base_uri": "https://localhost:8080/",
          "height": 85
        },
        "outputId": "09e99b27-66a0-4995-f0a5-f9553342ee35"
      },
      "source": [
        "#Load Library\n",
        "import numpy as np\n",
        "\n",
        "#Create a Matrix\n",
        "matrix = np.array([[1,2,3],[4,5,6],[7,8,9]])\n",
        "print(matrix)\n",
        "#Print the Trace\n",
        "print(matrix.trace())"
      ],
      "execution_count": 31,
      "outputs": [
        {
          "output_type": "stream",
          "text": [
            "[[1 2 3]\n",
            " [4 5 6]\n",
            " [7 8 9]]\n",
            "15\n"
          ],
          "name": "stdout"
        }
      ]
    },
    {
      "cell_type": "markdown",
      "metadata": {
        "id": "3fx3gHMSxapm",
        "colab_type": "text"
      },
      "source": [
        "## 14) Finding Eigenvalues and Eigenvectors\n",
        "Eigenvectors are widely used in Machine Learning libraries. Intutively given a linear transformation represented by a matrix,A, eigenvectors are vectors that when that transformation is applied, change only in scale(not direction).More formally\n",
        "Av=Kv\n",
        "Here A is a square matrix, K contains the eigenvalues and v contains the eigenvectors.\n"
      ]
    },
    {
      "cell_type": "code",
      "metadata": {
        "id": "FghiQ2O1xdkn",
        "colab_type": "code",
        "colab": {
          "base_uri": "https://localhost:8080/",
          "height": 136
        },
        "outputId": "5db54d76-fcdc-43a1-9e14-9b21e1741123"
      },
      "source": [
        "#Load Library\n",
        "import numpy as np\n",
        "\n",
        "#Create a Matrix\n",
        "matrix = np.array([[1,2,3],[4,5,6],[7,8,9]])\n",
        "print(matrix)\n",
        "\n",
        "# Calculate the Eigenvalues and Eigenvectors of that Matrix\n",
        "eigenvalues ,eigenvectors=np.linalg.eig(matrix)\n",
        "print(eigenvalues)\n",
        "print(eigenvectors)"
      ],
      "execution_count": 32,
      "outputs": [
        {
          "output_type": "stream",
          "text": [
            "[[1 2 3]\n",
            " [4 5 6]\n",
            " [7 8 9]]\n",
            "[ 1.61168440e+01 -1.11684397e+00 -1.30367773e-15]\n",
            "[[-0.23197069 -0.78583024  0.40824829]\n",
            " [-0.52532209 -0.08675134 -0.81649658]\n",
            " [-0.8186735   0.61232756  0.40824829]]\n"
          ],
          "name": "stdout"
        }
      ]
    },
    {
      "cell_type": "markdown",
      "metadata": {
        "id": "F_gAztknxgA5",
        "colab_type": "text"
      },
      "source": [
        "## 15) Calculating Dot Products"
      ]
    },
    {
      "cell_type": "code",
      "metadata": {
        "id": "i3Jn2oXLxixC",
        "colab_type": "code",
        "colab": {
          "base_uri": "https://localhost:8080/",
          "height": 51
        },
        "outputId": "d241620f-8e09-422b-8b3a-2800da5edf71"
      },
      "source": [
        "#Load Library\n",
        "import numpy as np\n",
        "\n",
        "#Create vector-1\n",
        "vector_1 = np.array([ 1,2,3 ])\n",
        "#Create vector-2\n",
        "vector_2 = np.array([ 4,5,6 ])\n",
        "#Calculate Dot Product\n",
        "print(np.dot(vector_1,vector_2))\n",
        "#Alternatively you can use @ to calculate dot products\n",
        "print(vector_1 @ vector_2)"
      ],
      "execution_count": 34,
      "outputs": [
        {
          "output_type": "stream",
          "text": [
            "32\n",
            "32\n"
          ],
          "name": "stdout"
        }
      ]
    },
    {
      "cell_type": "markdown",
      "metadata": {
        "id": "s-XIW5Zxxr5N",
        "colab_type": "text"
      },
      "source": [
        "## 16) Adding, Subtracting and Multiplying Matrices\n"
      ]
    },
    {
      "cell_type": "code",
      "metadata": {
        "id": "v5Us2nPLxv5-",
        "colab_type": "code",
        "colab": {
          "base_uri": "https://localhost:8080/",
          "height": 170
        },
        "outputId": "ee30cad7-0966-4dcb-f796-36e321ab28b9"
      },
      "source": [
        "#Load Library\n",
        "import numpy as np\n",
        "\n",
        "#Create Matrix-1\n",
        "matrix_1 = np.array([[1,2,3],[4,5,6],[7,8,9]])\n",
        "#Create Matrix-2\n",
        "matrix_2 = np.array([[7,8,9],[4,5,6],[1,2,3]])\n",
        "#Add the 2 Matrices\n",
        "print(np.add(matrix_1,matrix_2))\n",
        "#Subtraction\n",
        "print(np.subtract(matrix_1,matrix_2))\n",
        "#Multiplication(Element wise, not Dot Product)\n",
        "print(matrix_1*matrix_2)"
      ],
      "execution_count": 35,
      "outputs": [
        {
          "output_type": "stream",
          "text": [
            "[[ 8 10 12]\n",
            " [ 8 10 12]\n",
            " [ 8 10 12]]\n",
            "[[-6 -6 -6]\n",
            " [ 0  0  0]\n",
            " [ 6  6  6]]\n",
            "[[ 7 16 27]\n",
            " [16 25 36]\n",
            " [ 7 16 27]]\n"
          ],
          "name": "stdout"
        }
      ]
    },
    {
      "cell_type": "markdown",
      "metadata": {
        "id": "ODyLbMjtxyZZ",
        "colab_type": "text"
      },
      "source": [
        "## 17) Inverting a Matrix\n",
        "This is used when you want to calculate the inverse of a Square Matrix\n"
      ]
    },
    {
      "cell_type": "code",
      "metadata": {
        "id": "orjQMKMyypjn",
        "colab_type": "code",
        "colab": {}
      },
      "source": [
        "pip install linalg"
      ],
      "execution_count": null,
      "outputs": []
    },
    {
      "cell_type": "code",
      "metadata": {
        "id": "7EvsJyzty-Bm",
        "colab_type": "code",
        "colab": {}
      },
      "source": [
        "pip install "
      ],
      "execution_count": null,
      "outputs": []
    },
    {
      "cell_type": "code",
      "metadata": {
        "id": "G0j57j9yx5eb",
        "colab_type": "code",
        "colab": {
          "base_uri": "https://localhost:8080/",
          "height": 119
        },
        "outputId": "1fec4f1f-999c-420e-acef-04dba4ddf245"
      },
      "source": [
        "#Load Library\n",
        "import numpy as np \n",
        "#Create a Matrix\n",
        "matrix = np.array([[1,2,3],[4,5,2],[4,3,5]])\n",
        "print(matrix)\n",
        "#Calculate its inverse\n",
        "print(np.linalg.inv(matrix))"
      ],
      "execution_count": 52,
      "outputs": [
        {
          "output_type": "stream",
          "text": [
            "[[1 2 3]\n",
            " [4 5 2]\n",
            " [4 3 5]]\n",
            "[[-0.65517241  0.03448276  0.37931034]\n",
            " [ 0.4137931   0.24137931 -0.34482759]\n",
            " [ 0.27586207 -0.17241379  0.10344828]]\n"
          ],
          "name": "stdout"
        }
      ]
    },
    {
      "cell_type": "markdown",
      "metadata": {
        "id": "mlXriaJx0jSt",
        "colab_type": "text"
      },
      "source": [
        "## 18) Generating Random values\n",
        "Numpy offers a wide variety of means to generate Random Numbers.\n",
        "Moreover, It can sometimes be useful to return the same random numbers to get predictable, repeatable results. We can do so by setting the ‘Seed’ (An Integer) of the pseudorandom generator. Random processes with the same seed would always produce the same result.\n"
      ]
    },
    {
      "cell_type": "code",
      "metadata": {
        "id": "eX7F0u1X0m-v",
        "colab_type": "code",
        "colab": {
          "base_uri": "https://localhost:8080/",
          "height": 51
        },
        "outputId": "e35dda2f-2840-4cfb-b654-c63736c20024"
      },
      "source": [
        "#Load Library\n",
        "import numpy as np\n",
        "#Set seed\n",
        "np.random.seed(1)\n",
        "#Generate 3 random integers b/w 1 and 10\n",
        "print(np.random.randint(0,11,3))\n",
        "#Draw 3 numbers from a normal distribution with mean 1.0 and std 2.0\n",
        "print(np.random.normal(1.0,2.0,3))"
      ],
      "execution_count": 53,
      "outputs": [
        {
          "output_type": "stream",
          "text": [
            "[5 8 9]\n",
            "[-0.60434568  0.10224438 -1.21187015]\n"
          ],
          "name": "stdout"
        }
      ]
    },
    {
      "cell_type": "code",
      "metadata": {
        "id": "8oh22NC7Qg7R",
        "colab_type": "code",
        "colab": {}
      },
      "source": [
        ""
      ],
      "execution_count": null,
      "outputs": []
    },
    {
      "cell_type": "code",
      "metadata": {
        "id": "bgIF7zhVQg-N",
        "colab_type": "code",
        "colab": {}
      },
      "source": [
        ""
      ],
      "execution_count": null,
      "outputs": []
    },
    {
      "cell_type": "code",
      "metadata": {
        "id": "wEYn9H8-QhCI",
        "colab_type": "code",
        "colab": {}
      },
      "source": [
        ""
      ],
      "execution_count": null,
      "outputs": []
    },
    {
      "cell_type": "code",
      "metadata": {
        "id": "WwyHcUZVQhFA",
        "colab_type": "code",
        "colab": {}
      },
      "source": [
        ""
      ],
      "execution_count": null,
      "outputs": []
    },
    {
      "cell_type": "code",
      "metadata": {
        "id": "jWpoWgtLQhIa",
        "colab_type": "code",
        "colab": {}
      },
      "source": [
        "  "
      ],
      "execution_count": null,
      "outputs": []
    },
    {
      "cell_type": "code",
      "metadata": {
        "id": "Z7fWzLGOQhgm",
        "colab_type": "code",
        "colab": {}
      },
      "source": [
        ""
      ],
      "execution_count": null,
      "outputs": []
    },
    {
      "cell_type": "code",
      "metadata": {
        "id": "u92vwswHQhjH",
        "colab_type": "code",
        "colab": {}
      },
      "source": [
        ""
      ],
      "execution_count": null,
      "outputs": []
    },
    {
      "cell_type": "code",
      "metadata": {
        "id": "ExF0eVvgQho6",
        "colab_type": "code",
        "colab": {}
      },
      "source": [
        ""
      ],
      "execution_count": null,
      "outputs": []
    },
    {
      "cell_type": "code",
      "metadata": {
        "id": "bNeaIpnDQht_",
        "colab_type": "code",
        "colab": {}
      },
      "source": [
        ""
      ],
      "execution_count": null,
      "outputs": []
    },
    {
      "cell_type": "code",
      "metadata": {
        "id": "San22lqzQhyd",
        "colab_type": "code",
        "colab": {}
      },
      "source": [
        ""
      ],
      "execution_count": null,
      "outputs": []
    },
    {
      "cell_type": "code",
      "metadata": {
        "id": "dZwHRkzSQh4K",
        "colab_type": "code",
        "colab": {}
      },
      "source": [
        ""
      ],
      "execution_count": null,
      "outputs": []
    },
    {
      "cell_type": "code",
      "metadata": {
        "id": "t0nuvotNQh2j",
        "colab_type": "code",
        "colab": {}
      },
      "source": [
        ""
      ],
      "execution_count": null,
      "outputs": []
    },
    {
      "cell_type": "code",
      "metadata": {
        "id": "D5LHHkxtQhxG",
        "colab_type": "code",
        "colab": {}
      },
      "source": [
        ""
      ],
      "execution_count": null,
      "outputs": []
    },
    {
      "cell_type": "code",
      "metadata": {
        "id": "50FJYSq2Qhsx",
        "colab_type": "code",
        "colab": {}
      },
      "source": [
        ""
      ],
      "execution_count": null,
      "outputs": []
    },
    {
      "cell_type": "code",
      "metadata": {
        "id": "vXy4-D_AQhnE",
        "colab_type": "code",
        "colab": {}
      },
      "source": [
        ""
      ],
      "execution_count": null,
      "outputs": []
    },
    {
      "cell_type": "code",
      "metadata": {
        "id": "oG3WPTtZQhA4",
        "colab_type": "code",
        "colab": {}
      },
      "source": [
        ""
      ],
      "execution_count": null,
      "outputs": []
    },
    {
      "cell_type": "code",
      "metadata": {
        "id": "mY2hLOIjQglZ",
        "colab_type": "code",
        "colab": {}
      },
      "source": [
        ""
      ],
      "execution_count": null,
      "outputs": []
    },
    {
      "cell_type": "code",
      "metadata": {
        "id": "MHGVhG8MQgkC",
        "colab_type": "code",
        "colab": {}
      },
      "source": [
        ""
      ],
      "execution_count": null,
      "outputs": []
    },
    {
      "cell_type": "code",
      "metadata": {
        "id": "pyZUh4ASQgcW",
        "colab_type": "code",
        "colab": {}
      },
      "source": [
        ""
      ],
      "execution_count": null,
      "outputs": []
    },
    {
      "cell_type": "code",
      "metadata": {
        "id": "uK1RPLIcQgXN",
        "colab_type": "code",
        "colab": {}
      },
      "source": [
        ""
      ],
      "execution_count": null,
      "outputs": []
    }
  ]
}